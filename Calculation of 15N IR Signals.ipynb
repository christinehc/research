{
 "cells": [
  {
   "cell_type": "code",
   "execution_count": 2,
   "metadata": {},
   "outputs": [],
   "source": [
    "#import numpy as np\n",
    "import math\n",
    "\n",
    "# Calculation of stretching freq. nu\n",
    "\n",
    "def red_mass(m1, m2):\n",
    "    '''Returns reduced mass for 2 given masses: (product)/(sum)'''\n",
    "    m1 = m1 / 6.02E23\n",
    "    m2 = m2 / 6.02E23\n",
    "    reduced_mass = (m1 * m2) / (m1 + m2)\n",
    "    return reduced_mass\n",
    "\n",
    "def mol_vib_ratio(rmass1, rmass2):\n",
    "    '''Takes two reduced masses as inputs.  Returns the ratio (nu1)/(nu2) of the vibrational energies.\n",
    "    '''\n",
    "    return math.sqrt(rmass1 / rmass2)"
   ]
  },
  {
   "cell_type": "code",
   "execution_count": 4,
   "metadata": {},
   "outputs": [
    {
     "data": {
      "text/plain": [
       "0.9767742372006054"
      ]
     },
     "execution_count": 4,
     "metadata": {},
     "output_type": "execute_result"
    }
   ],
   "source": [
    "m_P14N = red_mass(30.97, 14)\n",
    "m_P15N = red_mass(30.97, 15)\n",
    "mol_vib_ratio(m_P14N, m_P15N)"
   ]
  },
  {
   "cell_type": "code",
   "execution_count": 5,
   "metadata": {},
   "outputs": [
    {
     "data": {
      "text/plain": [
       "1426.090386312884"
      ]
     },
     "execution_count": 5,
     "metadata": {},
     "output_type": "execute_result"
    }
   ],
   "source": [
    "1460 * mol_vib_ratio(m_P14N, m_P15N)"
   ]
  },
  {
   "cell_type": "code",
   "execution_count": 3,
   "metadata": {},
   "outputs": [
    {
     "data": {
      "text/plain": [
       "[1332.290145560084, 1301.6586913187957]"
      ]
     },
     "execution_count": 3,
     "metadata": {},
     "output_type": "execute_result"
    }
   ],
   "source": [
    "#mol_vibs = [mol_vib(30, 14, 2), mol_vib(30, 15, 2)]\n",
    "#mol_vibs"
   ]
  },
  {
   "cell_type": "code",
   "execution_count": 5,
   "metadata": {},
   "outputs": [
    {
     "data": {
      "text/plain": [
       "30.63145424128834"
      ]
     },
     "execution_count": 5,
     "metadata": {},
     "output_type": "execute_result"
    }
   ],
   "source": [
    "#delta15n = mol_vibs[0] - mol_vibs[1]\n",
    "#delta15n"
   ]
  },
  {
   "cell_type": "code",
   "execution_count": null,
   "metadata": {},
   "outputs": [],
   "source": []
  }
 ],
 "metadata": {
  "kernelspec": {
   "display_name": "Python 3",
   "language": "python",
   "name": "python3"
  },
  "language_info": {
   "codemirror_mode": {
    "name": "ipython",
    "version": 3
   },
   "file_extension": ".py",
   "mimetype": "text/x-python",
   "name": "python",
   "nbconvert_exporter": "python",
   "pygments_lexer": "ipython3",
   "version": "3.7.1"
  }
 },
 "nbformat": 4,
 "nbformat_minor": 2
}
