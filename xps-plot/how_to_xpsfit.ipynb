{
 "cells": [
  {
   "cell_type": "markdown",
   "metadata": {},
   "source": [
    "# **How to Fit XPS Data Using Python**\n",
    "\n",
    "_Written by: Christine Chang_ | _Last updated: 2019.06.20_"
   ]
  },
  {
   "cell_type": "markdown",
   "metadata": {},
   "source": [
    "### Getting Started\n",
    "\n",
    "Before trying to fit your XPS spectra, make sure to follow the instructions in the Transition Document! All of the listed install instructions must be implemented on your computer before you can run this software."
   ]
  },
  {
   "cell_type": "markdown",
   "metadata": {},
   "source": [
    "#### Dependencies\n",
    "\n",
    "* [Jupyter Lab or Jupyter Notebook](https://jupyter.org/)\n",
    "* [Pandas](https://pandas.pydata.org/)\n",
    "* [NumPy](https://www.numpy.org/)\n",
    "* [Matplotlib](https://matplotlib.org/)\n",
    "* [LMFIT](https://lmfit.github.io/lmfit-py/)\n",
    "    - [SciPy](https://www.scipy.org/)\n",
    "    - [six](https://github.com/benjaminp/six)\n",
    "    - [Asteval](https://github.com/newville/asteval)\n",
    "    - [Uncertainties](https://github.com/lebigot/uncertainties)\n",
    "* [XLRD](https://github.com/python-excel/xlrd)"
   ]
  },
  {
   "cell_type": "markdown",
   "metadata": {},
   "source": [
    "### What is a Jupyter Notebook?\n",
    "\n",
    "[Jupyter Notebooks](https://jupyter.org/) have the file extension .ipynb and are a flexible way to write and run code in Python.  **This file is a Jupyter Notebook.** Jupyter Notebooks can be opened using Jupyter Notebook (bash command: `jupyter notebook`) or Jupyter Lab (bash command: `jupyter lab`).  You can then navigate to the correct folder and file."
   ]
  },
  {
   "cell_type": "markdown",
   "metadata": {},
   "source": [
    "## **Fitting Your Data**"
   ]
  },
  {
   "cell_type": "markdown",
   "metadata": {},
   "source": [
    "### 1. Open this file (how_to_xpsfit.ipynb) in Jupyter Notebook or Jupyter Lab.\n",
    "\n",
    "Double check that this file , `xpsfit.py`, and `xpstools.py` are saved in the same directory in your computer.  If not, re-download or `git clone` the whole repository."
   ]
  },
  {
   "cell_type": "markdown",
   "metadata": {},
   "source": [
    "### 2. Run the following cell:"
   ]
  },
  {
   "cell_type": "code",
   "execution_count": null,
   "metadata": {},
   "outputs": [],
   "source": [
    "from xpsfit import full_xps_fit\n",
    "\n",
    "%matplotlib inline"
   ]
  },
  {
   "cell_type": "markdown",
   "metadata": {},
   "source": [
    "Note that to run the cell, simply click anywhere in the box and hit Shift+Enter.\n",
    "\n",
    "This cell imports the Python function written to fit P 2p HR XPS signals, as well as a \"magic\" function that will display the plots nicely in the notebook. Full code for the function is contained within `xpsfit.py` (you can also examine a variety of functions summoned inside the full function in `xpstools.py`).  Feel free to modify the code as you see fit, but be aware that I've tested the functionality of the vanilla files and modification may break the functions. If you're comfortable coding in Python and going through the debugging process, though, feel free (and feel free to submit pull requests as well!).\n",
    "\n",
    "_e.g._ One modification you may wish to make is to change the location or filetype of files saved by `full_xps_fit`. Currently, outputs are saved to the same directory containing the file; a new folder called \"xpsfit\" is created in the directory and the files saved therein. However, you can tweak this in the code.\n",
    "\n",
    "When the cell has successfully been run, you should see a number appear on the left hand side within the square brackets."
   ]
  },
  {
   "cell_type": "markdown",
   "metadata": {},
   "source": [
    "### 3. Run the `full_xps_fit` function:\n",
    "\n",
    "The function will execute code designed to take an Excel spreadsheet"
   ]
  },
  {
   "cell_type": "code",
   "execution_count": null,
   "metadata": {},
   "outputs": [],
   "source": [
    "full_xps_fit('insert/path/to/file/here', sheet='Sheet7')"
   ]
  },
  {
   "cell_type": "markdown",
   "metadata": {},
   "source": [
    "_Protip:_ If you are using a Mac, you can click-and-drag your file from Finder to a Terminal window in order to get its filepath :)\n",
    "\n",
    "If all goes well, you should see a few parameters printed out for the determined fit, as well as an image containing your plot.  The **Proportions** parameter gives the relative proportion of each signal, based on peak intensity (note: peak widths are always fixed from peak to peak in XPS; see Transition Documents for a literature reference explaining why.  Thus, intensity can be used to gauge proportions).  The **Distances** parameter gives the distance between the P(0) peak (labeled as `a`) and each other fitted peak.\n",
    "\n",
    "(Up to 5 peaks can be fit.)"
   ]
  },
  {
   "cell_type": "markdown",
   "metadata": {},
   "source": [
    "#### If you are confused, run the following cell to display information about the `full_xps_fit` function, including the various options you can include:"
   ]
  },
  {
   "cell_type": "code",
   "execution_count": null,
   "metadata": {},
   "outputs": [],
   "source": [
    "help(full_xps_fit)"
   ]
  },
  {
   "cell_type": "markdown",
   "metadata": {},
   "source": [
    "But I'll also include a copy of the documentation here for reference:\n",
    "\n",
    "---\n",
    "\n",
    "#### full_xps_fit(file, sheet, peaks=3, name=False, skip=7, b=False, c=False, residuals=False)\n",
    "\n",
    "    Given a file path and desired prefix (for data naming scheme), performs the\n",
    "    full gamut of XPS analyses on a P 2p XPS dataset, from calculating fits\n",
    "    (based on pseudo-Voigt profiles) to generating a simple plot of the fitted\n",
    "    data.\n",
    "\n",
    "    Performs fittings to up to 3 separate P peaks, with initial guesses for the\n",
    "    binding energies constrained as follows:\n",
    "        a: initial guess for binding energy in the range of P(0) (~130 eV)\n",
    "        b - e: initial guess for binding energy for oxidized P (~133-135 eV)\n",
    "    The LMFIT package will use these initial guesses and iteratively find the\n",
    "    \"actual peaks\" optimized according to least-squares fitting.\n",
    "\n",
    "    (Note: in the following code, binding energies are shifted -10 eV\n",
    "    relative to real values due to experimental setup (samples are run in the\n",
    "    S-Probe as insulators, which adds a ~-10 eV shift to raw data).)\n",
    "\n",
    "    Arguments:\n",
    "        file: /path/to/file/containing/xps/data\n",
    "        sheet: 'Sheet7' by default. Name of sheet (withinin Excel file), as a\n",
    "            string, containing P 2p data.\n",
    "        peaks: (optional) 3 by default. Number of peaks to fit.  Accepts any\n",
    "            integer from 1 to 5.\n",
    "        name: (optional) False by default. Accepts a string to be used to name\n",
    "            output files. Saves output spectra as two files (./xpsfit/[name].pdf\n",
    "            and ./xpsfit/[name].png, where \".\" is the directory containing the\n",
    "            file specified above. If False, generates but does not save spectra.\n",
    "        skip: (optional) skip=7 by default. Sets the number of rows in the\n",
    "            XPS data Excel file to skip. Manually opening the file to determine\n",
    "            the correct number of rows to skip may be necessary.\n",
    "        b: (optional) False by default. Accepts a numeric value at which to fix\n",
    "            the peak center of b.\n",
    "        c: (optional) False by default. Accepts a numeric value at which to fix\n",
    "            the peak center of c.\n",
    "        residuals: (optional) False by default. Shows residuals plot if True.\n",
    "\n",
    "---"
   ]
  },
  {
   "cell_type": "markdown",
   "metadata": {},
   "source": [
    "### 4. That's all!\n",
    "\n",
    "If you want to run a new file through XPS fitting, you can either modify the cell in **Step 3** or create a new cell and run `full_xps_fit` again! (Clicking the \"+\" button on the Jupyter Notebook interface will allow you to create a new blank cell, and then it's just a matter of copy-pasting/typing.)"
   ]
  },
  {
   "cell_type": "code",
   "execution_count": null,
   "metadata": {},
   "outputs": [],
   "source": []
  }
 ],
 "metadata": {
  "kernelspec": {
   "display_name": "Python 3",
   "language": "python",
   "name": "python3"
  },
  "language_info": {
   "codemirror_mode": {
    "name": "ipython",
    "version": 3
   },
   "file_extension": ".py",
   "mimetype": "text/x-python",
   "name": "python",
   "nbconvert_exporter": "python",
   "pygments_lexer": "ipython3",
   "version": "3.6.7"
  }
 },
 "nbformat": 4,
 "nbformat_minor": 2
}
