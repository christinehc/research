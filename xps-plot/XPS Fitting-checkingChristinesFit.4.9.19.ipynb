{
 "cells": [
  {
   "cell_type": "markdown",
   "metadata": {},
   "source": [
    "# Initialization"
   ]
  },
  {
   "cell_type": "code",
   "execution_count": 1,
   "metadata": {},
   "outputs": [],
   "source": [
    "from lmfit import models\n",
    "import pandas as pd\n",
    "import numpy as np\n",
    "import matplotlib.pyplot as plt"
   ]
  },
  {
   "cell_type": "markdown",
   "metadata": {},
   "source": [
    "# Customized code"
   ]
  },
  {
   "cell_type": "code",
   "execution_count": 55,
   "metadata": {},
   "outputs": [],
   "source": [
    "from operator import add\n",
    "from functools import reduce\n",
    "\n",
    "def read_xps_data_from_excel(file, sheet_name, skiprows=7):\n",
    "    raw = pd.read_excel(file, sheet_name=sheet_name, skiprows=skiprows)\n",
    "\n",
    "    try:\n",
    "        new = pd.DataFrame()\n",
    "        new['BindingEnergy'] = raw['B. E.']\n",
    "        new['Counts'] = raw['Counts']\n",
    "        new['FitRegion_BindingEnergy'] = raw['PkGrp1_BE']\n",
    "        new['FitBackground'] = raw['PkGrp1_Count']\n",
    "        new['FitEnvelope'] = raw['PkFitEnv1']\n",
    "        \n",
    "        #Search for variable number of peaks\n",
    "        peaki = 1\n",
    "        while True:\n",
    "            try:\n",
    "                new['Peak{}'.format(peaki)] = raw['Pk0{}'.format(peaki)]\n",
    "                peaki += 1\n",
    "            except KeyError:\n",
    "                break\n",
    "    except KeyError:\n",
    "        print('File does not match peak finding pattern Pk01, Pk02, ..., returning raw columns')\n",
    "        new = pd.DataFrame()\n",
    "        new['BindingEnergy'] = raw['B. E.']\n",
    "        new['Counts'] = raw['Counts']\n",
    "        for k in raw.keys():\n",
    "            if k != 'B. E.' and k != 'Count':\n",
    "                new[k] = raw[k]\n",
    "    return new\n",
    "\n",
    "def plot_xps_data_matplotlib(xpsdataframe):\n",
    "    plt.plot(xpsdataframe['BindingEnergy'], xpsdataframe['Counts'], label='AllData')\n",
    "    \n",
    "    x = xpsdataframe['FitRegion_BindingEnergy']\n",
    "    for k in xpsdataframe.keys()[3:]:\n",
    "        plt.plot(x, xpsdataframe[k], label=k)\n",
    "        \n",
    "    plt.legend()\n",
    "    plt.show()\n",
    "\n",
    "def take_energy_range(energies, data, erange):\n",
    "    indices = (energies >= erange[0]) & (energies <= erange[1])\n",
    "    return np.array([energies[indices], data[indices]])\n",
    "\n",
    "def get_background_subtracted_data(xpsdataframe):\n",
    "    croppednans = xpsdataframe['FitRegion_BindingEnergy'][pd.notna(xpsdataframe['FitRegion_BindingEnergy'])]\n",
    "    upper = croppednans.iloc[0]\n",
    "    lower = croppednans.iloc[-1]\n",
    "    energies, data = take_energy_range(xpsdataframe['BindingEnergy'], xpsdataframe['Counts'], [lower, upper])\n",
    "    assert (energies - croppednans < 1e-10).all(), 'Energy grid of BindingEnergy and FitRegion_BindingEnergy did not match'\n",
    "    new = {}\n",
    "    new['BindingEnergy'] = energies\n",
    "    new['Counts'] = data - xpsdataframe['FitBackground'][pd.notna(xpsdataframe['FitBackground'])]\n",
    "    return pd.DataFrame(new)\n",
    "\n",
    "def doublet_peakshape_model(mainpeakpos=120, gamma=0.15, sigma=0.35, splitting=-0.8, ratio=2, prefix='a'):\n",
    "    \"\"\"Makes lmfit model of doublet shape.\n",
    "    \n",
    "    Model is composed of two voigts with fixed Lorentzian\n",
    "     and Gaussian widths and fixed splitting and peak ratios.\n",
    "\n",
    "    Args:\n",
    "        mainpeakpos: Energy (eV) position of main peak.\n",
    "        gamma: Lorentzian width (in voigt model).\n",
    "        sigma: Gaussian width (in voigt model).\n",
    "        splitting: Energy gap (eV) between the two components\n",
    "        ratio: Ratio of peak heights a1/a2\n",
    "\n",
    "    Returns:\n",
    "        lmfit model, lmfit pars\n",
    "\n",
    "    Raises:\n",
    "        Nothing.\n",
    "    \"\"\"\n",
    "    prefix1 = prefix + '1_'\n",
    "    prefix2 = prefix + '2_'\n",
    "    mod = models.VoigtModel(prefix=prefix1)+models.VoigtModel(prefix=prefix2)\n",
    "    pars = mod.make_params()\n",
    "    parsdict = dict([[prefix2+'amplitude',{'expr': prefix1+'amplitude*'+str(1/ratio), 'value': 1/ratio, 'vary': False}],\n",
    "                     [prefix2+'gamma', {'expr': prefix1+'gamma', 'value': gamma, 'vary': False}],\n",
    "                     [prefix2+'center', {'expr': prefix1+'center-'+str(splitting), 'value': mainpeakpos-splitting, 'vary': False}],\n",
    "                     [prefix1+'sigma', {'expr': '', 'value': sigma, 'vary': False}],\n",
    "                     [prefix1+'gamma', {'expr': '', 'value': gamma, 'vary': False}],\n",
    "                     [prefix1+'center', {'expr': '', 'value': mainpeakpos, 'vary': True}],\n",
    "                     [prefix2+'sigma', {'expr': prefix1+'sigma', 'value': sigma, 'vary': False}]])\n",
    "    for k,v in parsdict.items():\n",
    "        pars[k].set(vary=v['vary'],expr=v['expr'])\n",
    "    for k,v in parsdict.items():\n",
    "        pars[k].value=v['value']\n",
    "    return mod, pars\n",
    "\n",
    "def multiple_doublet_model(centralenergies, relativeintensities):\n",
    "    assert len(centralenergies) == len(relativeintensities), 'Intensities and energies must have same length.'\n",
    "    models = []\n",
    "    parslist = []\n",
    "    alphabet = 'abcdefghijklmnopqrstuvwxyz'\n",
    "    for i in range(len(centralenergies)):\n",
    "        mod, pars = doublet_peakshape_model(centralenergies[i], prefix=alphabet[i])\n",
    "        pars[alphabet[i]+'1_amplitude'].set(value=relativeintensities[i])\n",
    "        models.append(mod)\n",
    "        parslist.append(pars)\n",
    "    totalmodel = reduce(add, models)\n",
    "    totalpars = reduce(add, parslist)\n",
    "    return totalmodel, totalpars\n",
    "\n",
    "def xps_fit(xpsdataframe, centralenergies, relativeintensities):\n",
    "    bgsub = get_background_subtracted_data(xpsdataframe)\n",
    "    energies = bgsub['BindingEnergy']\n",
    "    data = bgsub['Counts']\n",
    "    mod, pars = multiple_doublet_model(centralenergies, relativeintensities)\n",
    "    for k in pars.keys():\n",
    "        if '1_amplitude' in k:\n",
    "            pars[k].set(value=data.max() * pars[k].value)\n",
    "    fit = mod.fit(data, params=pars, x=energies)\n",
    "    return fit, mod, pars\n",
    "\n",
    "def plot_xps_fit(fit, showallcomponents=False):\n",
    "    x = fit.userkws['x']\n",
    "    plt.plot(x, fit.data, label='Data')\n",
    "    plt.plot(x, fit.eval(x=x), label='Fit')\n",
    "    components = fit.eval_components(x=x)\n",
    "    \n",
    "    uniqueprefixes = sorted(list(set([s[:-2] for s in components.keys()])))\n",
    "    for p in uniqueprefixes:\n",
    "        plt.plot(x, components[p+'1_'] + components[p+'2_'], label=p)\n",
    "        \n",
    "    if showallcomponents:\n",
    "        for k, v in components.items():\n",
    "            plt.plot(x, v, 'k--', alpha=0.5)\n",
    "        \n",
    "    plt.legend()\n",
    "    plt.xlabel('Binding Energy')\n",
    "    ax = plt.gca()\n",
    "    ax.invert_xaxis()\n",
    "    plt.ylabel('Intensity')\n",
    "    plt.show()\n",
    "\n",
    "def calculate_component_percentages(fit):\n",
    "    components = fit.eval_components()\n",
    "    uniqueprefixes = sorted(list(set([s[:-2] for s in components.keys()])))\n",
    "    intensities = {}\n",
    "    for p in uniqueprefixes:\n",
    "        intensities[p] = np.sum(components[p+'1_'] + components[p+'2_'])\n",
    "    total = np.sum(list(intensities.values()))\n",
    "    for k, v in intensities.items():\n",
    "        intensities[k] = v / total\n",
    "    return intensities"
   ]
  },
  {
   "cell_type": "markdown",
   "metadata": {},
   "source": [
    "# Example usage"
   ]
  },
  {
   "cell_type": "markdown",
   "metadata": {},
   "source": [
    "## import data using pandas"
   ]
  },
  {
   "cell_type": "markdown",
   "metadata": {},
   "source": [
    "Import data from Excel file and specific sheet"
   ]
  },
  {
   "cell_type": "code",
   "execution_count": 4,
   "metadata": {
    "scrolled": true
   },
   "outputs": [],
   "source": [
    "data = read_xps_data_from_excel('CHC-049.xlsx', sheet_name='Sheet9', skiprows=8)"
   ]
  },
  {
   "cell_type": "markdown",
   "metadata": {},
   "source": [
    "Plot the data to view it:"
   ]
  },
  {
   "cell_type": "code",
   "execution_count": 6,
   "metadata": {},
   "outputs": [
    {
     "data": {
      "image/png": "[encoded data removed]",
      "text/plain": [
       "<Figure size 432x288 with 1 Axes>"
      ]
     },
     "metadata": {
      "needs_background": "light"
     },
     "output_type": "display_data"
    }
   ],
   "source": [
    "plot_xps_data_matplotlib(data)"
   ]
  },
  {
   "cell_type": "markdown",
   "metadata": {},
   "source": [
    "## fit data using LMFIT"
   ]
  },
  {
   "cell_type": "markdown",
   "metadata": {},
   "source": [
    "Fit the data using a list of energies for oxidation state components and a list of their relative intensities.\n",
    "\n",
    "For example:\n",
    "\n",
    "centralenergies = (120.0, 123.0, 124.0)\n",
    "\n",
    "relativeintensities = (1, 0.1, 0.25)"
   ]
  },
  {
   "cell_type": "code",
   "execution_count": 68,
   "metadata": {},
   "outputs": [],
   "source": [
    "fitoutput, model, parameters = xps_fit(data, [120.0, 123.0, 124.0], [1, 0.1, 0.25])"
   ]
  },
  {
   "cell_type": "markdown",
   "metadata": {},
   "source": [
    "Plot the fit results.  Individual components are labelled by letter in order of the supplied centralenergies list."
   ]
  },
  {
   "cell_type": "code",
   "execution_count": 69,
   "metadata": {},
   "outputs": [
    {
     "data": {
      "image/png": "[encoded data removed]",
      "text/plain": [
       "<Figure size 432x288 with 1 Axes>"
      ]
     },
     "metadata": {
      "needs_background": "light"
     },
     "output_type": "display_data"
    }
   ],
   "source": [
    "plot_xps_fit(fitoutput, showallcomponents=True)"
   ]
  },
  {
   "cell_type": "markdown",
   "metadata": {},
   "source": [
    "Then we can calculate the relative proportions of the components.  The area of each peak is divided by the sum of all of the components:"
   ]
  },
  {
   "cell_type": "code",
   "execution_count": 70,
   "metadata": {},
   "outputs": [
    {
     "data": {
      "text/plain": [
       "{'a': 0.9609814146148465, 'b': 0.02013736443405898, 'c': 0.018881220951094537}"
      ]
     },
     "execution_count": 70,
     "metadata": {},
     "output_type": "execute_result"
    }
   ],
   "source": [
    "calculate_component_percentages(fitoutput)"
   ]
  },
  {
   "cell_type": "markdown",
   "metadata": {},
   "source": [
    "Then feel free to look at the full fit report:"
   ]
  },
  {
   "cell_type": "code",
   "execution_count": 61,
   "metadata": {
    "collapsed": true,
    "jupyter": {
     "outputs_hidden": true
    }
   },
   "outputs": [
    {
     "name": "stdout",
     "output_type": "stream",
     "text": [
      "[[Model]]\n",
      "    (((Model(voigt, prefix='a1_') + Model(voigt, prefix='a2_')) + (Model(voigt, prefix='b1_') + Model(voigt, prefix='b2_'))) + (Model(voigt, prefix='c1_') + Model(voigt, prefix='c2_')))\n",
      "[[Fit Statistics]]\n",
      "    # fitting method   = leastsq\n",
      "    # function evals   = 106\n",
      "    # data points      = 162\n",
      "    # variables        = 6\n",
      "    chi-square         = 1552996.78\n",
      "    reduced chi-square = 9955.10755\n",
      "    Akaike info crit   = 1497.23231\n",
      "    Bayesian info crit = 1515.75789\n",
      "[[Variables]]\n",
      "    a1_sigma:      0.35 (fixed)\n",
      "    a1_center:     120.141805 +/- 0.00314947 (0.00%) (init = 120)\n",
      "    a1_amplitude:  7153.90424 +/- 26.7497559 (0.37%) (init = 6533)\n",
      "    a2_sigma:      0.35000000 +/- 0.00000000 (0.00%) == 'a1_sigma'\n",
      "    a2_center:     120.941805 +/- 0.00314947 (0.00%) == 'a1_center--0.8'\n",
      "    a2_amplitude:  3576.95212 +/- 13.3748779 (0.37%) == 'a1_amplitude*0.5'\n",
      "    a1_gamma:      0.15 (fixed)\n",
      "    a1_fwhm:       0.99630264 +/- 0.00000000 (0.00%) == '1.0692*a1_gamma+sqrt(0.8664*a1_gamma**2+5.545083*a1_sigma**2)'\n",
      "    a1_height:     5973.08428 +/- 22.3344541 (0.37%) == '(a1_amplitude/(a1_sigma*sqrt(2*pi)))*wofz((1j*a1_gamma)/(a1_sigma*sqrt(2))).real'\n",
      "    a2_gamma:      0.15000000 +/- 0.00000000 (0.00%) == 'a1_gamma'\n",
      "    a2_fwhm:       0.99630264 +/- 0.00000000 (0.00%) == '1.0692*a2_gamma+sqrt(0.8664*a2_gamma**2+5.545083*a2_sigma**2)'\n",
      "    a2_height:     2986.54214 +/- 0.00000000 (0.00%) == '(a2_amplitude/(a2_sigma*sqrt(2*pi)))*wofz((1j*a2_gamma)/(a2_sigma*sqrt(2))).real'\n",
      "    b1_sigma:      0.35 (fixed)\n",
      "    b1_center:     123.204459 +/- 0.09319579 (0.08%) (init = 123)\n",
      "    b1_amplitude:  376.606225 +/- 52.2509013 (13.87%) (init = 653.3)\n",
      "    b2_sigma:      0.35000000 +/- 0.00000000 (0.00%) == 'b1_sigma'\n",
      "    b2_center:     124.004459 +/- 0.09319579 (0.08%) == 'b1_center--0.8'\n",
      "    b2_amplitude:  188.303113 +/- 26.1254507 (13.87%) == 'b1_amplitude*0.5'\n",
      "    b1_gamma:      0.15 (fixed)\n",
      "    b1_fwhm:       0.99630264 +/- 0.00000000 (0.00%) == '1.0692*b1_gamma+sqrt(0.8664*b1_gamma**2+5.545083*b1_sigma**2)'\n",
      "    b1_height:     314.443784 +/- 43.6263926 (13.87%) == '(b1_amplitude/(b1_sigma*sqrt(2*pi)))*wofz((1j*b1_gamma)/(b1_sigma*sqrt(2))).real'\n",
      "    b2_gamma:      0.15000000 +/- 0.00000000 (0.00%) == 'b1_gamma'\n",
      "    b2_fwhm:       0.99630264 +/- 0.00000000 (0.00%) == '1.0692*b2_gamma+sqrt(0.8664*b2_gamma**2+5.545083*b2_sigma**2)'\n",
      "    b2_height:     157.221892 +/- 0.00000000 (0.00%) == '(b2_amplitude/(b2_sigma*sqrt(2*pi)))*wofz((1j*b2_gamma)/(b2_sigma*sqrt(2))).real'\n",
      "    c1_sigma:      0.35 (fixed)\n",
      "    c1_center:     124.213961 +/- 0.06867743 (0.06%) (init = 124)\n",
      "    c1_amplitude:  510.515222 +/- 52.2617484 (10.24%) (init = 1633.25)\n",
      "    c2_sigma:      0.35000000 +/- 0.00000000 (0.00%) == 'c1_sigma'\n",
      "    c2_center:     125.013961 +/- 0.06867743 (0.05%) == 'c1_center--0.8'\n",
      "    c2_amplitude:  255.257611 +/- 26.1308742 (10.24%) == 'c1_amplitude*0.5'\n",
      "    c1_gamma:      0.15 (fixed)\n",
      "    c1_fwhm:       0.99630264 +/- 0.00000000 (0.00%) == '1.0692*c1_gamma+sqrt(0.8664*c1_gamma**2+5.545083*c1_sigma**2)'\n",
      "    c1_height:     426.249827 +/- 43.6354497 (10.24%) == '(c1_amplitude/(c1_sigma*sqrt(2*pi)))*wofz((1j*c1_gamma)/(c1_sigma*sqrt(2))).real'\n",
      "    c2_gamma:      0.15000000 +/- 0.00000000 (0.00%) == 'c1_gamma'\n",
      "    c2_fwhm:       0.99630264 +/- 0.00000000 (0.00%) == '1.0692*c2_gamma+sqrt(0.8664*c2_gamma**2+5.545083*c2_sigma**2)'\n",
      "    c2_height:     213.124913 +/- 0.00000000 (0.00%) == '(c2_amplitude/(c2_sigma*sqrt(2*pi)))*wofz((1j*c2_gamma)/(c2_sigma*sqrt(2))).real'\n",
      "[[Correlations]] (unreported correlations are < 0.100)\n",
      "    C(b1_amplitude, c1_amplitude) = -0.795\n",
      "    C(b1_center, c1_amplitude)    = -0.758\n",
      "    C(b1_amplitude, c1_center)    =  0.758\n",
      "    C(c1_center, c1_amplitude)    = -0.640\n",
      "    C(b1_center, b1_amplitude)    =  0.639\n",
      "    C(b1_center, c1_center)       =  0.571\n",
      "\n"
     ]
    }
   ],
   "source": [
    "print(fitoutput.fit_report())"
   ]
  },
  {
   "cell_type": "markdown",
   "metadata": {},
   "source": [
    "## To customize fitting constraints"
   ]
  },
  {
   "cell_type": "markdown",
   "metadata": {},
   "source": [
    "Take the model and parameters from the previous output, then adjust individual parameters as necessary in the fit output to then perform a new fit:"
   ]
  },
  {
   "cell_type": "code",
   "execution_count": 71,
   "metadata": {},
   "outputs": [],
   "source": [
    "for k, v in fitoutput.params.items():\n",
    "    if 'gamma' in k:\n",
    "        v.set(expr='a1_gamma')\n",
    "    if 'sigma' in k:\n",
    "        v.set(expr='a1_sigma')\n",
    "        \n",
    "fitoutput.params['a1_gamma'].set(vary=True)\n",
    "fitoutput.params['a1_sigma'].set(vary=True)"
   ]
  },
  {
   "cell_type": "code",
   "execution_count": 72,
   "metadata": {},
   "outputs": [],
   "source": [
    "# I also tried changing the peak ratio using the following, but decided it was unnecessary\n",
    "\n",
    "# newratio = 2.2\n",
    "# for k, v in fitoutput.params.items():\n",
    "#     if '2_amplitude' in k:\n",
    "#         v.set(expr='{} * {}'.format(k[0]+'1_amplitude', 1/newratio))"
   ]
  },
  {
   "cell_type": "markdown",
   "metadata": {},
   "source": [
    "Then re-run the fit as follows:"
   ]
  },
  {
   "cell_type": "code",
   "execution_count": 73,
   "metadata": {},
   "outputs": [],
   "source": [
    "fitoutput.fit()"
   ]
  },
  {
   "cell_type": "code",
   "execution_count": 74,
   "metadata": {},
   "outputs": [
    {
     "data": {
      "image/png": "[encoded data removed]",
      "text/plain": [
       "<Figure size 432x288 with 1 Axes>"
      ]
     },
     "metadata": {
      "needs_background": "light"
     },
     "output_type": "display_data"
    }
   ],
   "source": [
    "plot_xps_fit(fitoutput, showallcomponents=True)"
   ]
  },
  {
   "cell_type": "code",
   "execution_count": 75,
   "metadata": {},
   "outputs": [
    {
     "data": {
      "text/plain": [
       "{'a': 0.962650359385361, 'b': 0.02115608436019751, 'c': 0.0161935562544415}"
      ]
     },
     "execution_count": 75,
     "metadata": {},
     "output_type": "execute_result"
    }
   ],
   "source": [
    "calculate_component_percentages(fitoutput)"
   ]
  },
  {
   "cell_type": "code",
   "execution_count": 76,
   "metadata": {},
   "outputs": [
    {
     "data": {
      "text/plain": [
       "{'c2_sigma': 0.24997301400313487,\n",
       " 'c2_center': 124.86419407632083,\n",
       " 'c2_amplitude': 43.30688207301374,\n",
       " 'c2_gamma': 0.18278726142412846,\n",
       " 'c1_sigma': 0.24997301400313487,\n",
       " 'c1_center': 124.06419407632083,\n",
       " 'c1_amplitude': 86.61376414602748,\n",
       " 'c1_gamma': 0.18278726142412846,\n",
       " 'b2_sigma': 0.24997301400313487,\n",
       " 'b2_center': 124.14462743222603,\n",
       " 'b2_amplitude': 56.07209596119116,\n",
       " 'b2_gamma': 0.18278726142412846,\n",
       " 'b1_sigma': 0.24997301400313487,\n",
       " 'b1_center': 123.34462743222603,\n",
       " 'b1_amplitude': 112.14419192238232,\n",
       " 'b1_gamma': 0.18278726142412846,\n",
       " 'a2_sigma': 0.24997301400313487,\n",
       " 'a2_center': 120.51639990576483,\n",
       " 'a2_amplitude': 2539.1103758019085,\n",
       " 'a2_gamma': 0.18278726142412846,\n",
       " 'a1_sigma': 0.24997301400313487,\n",
       " 'a1_center': 119.71639990576483,\n",
       " 'a1_amplitude': 5078.220751603817,\n",
       " 'a1_gamma': 0.18278726142412846}"
      ]
     },
     "execution_count": 76,
     "metadata": {},
     "output_type": "execute_result"
    }
   ],
   "source": [
    "fitoutput.best_values"
   ]
  },
  {
   "cell_type": "code",
   "execution_count": 64,
   "metadata": {},
   "outputs": [
    {
     "name": "stdout",
     "output_type": "stream",
     "text": [
      "Name             Value      Min      Max   Stderr     Vary     Expr Brute_Step\n",
      "a1_amplitude      5078     -inf      inf       35     True     None     None\n",
      "a1_center        119.7     -inf      inf 0.002628     True     None     None\n",
      "a1_fwhm         0.8082     -inf      inf 0.007095    False 1.0692*a1_gamma+sqrt(0.8664*a1_gamma**2+5.545083*a1_sigma**2)     None\n",
      "a1_gamma        0.1828     -inf      inf 0.008305     True     None     None\n",
      "a1_height         4920     -inf      inf    32.23    False (a1_amplitude/(a1_sigma*sqrt(2*pi)))*wofz((1j*a1_gamma)/(a1_sigma*sqrt(2))).real     None\n",
      "a1_sigma          0.25        0      inf 0.006532     True     None     None\n",
      "a2_amplitude      2539     -inf      inf     17.5    False a1_amplitude*0.5     None\n",
      "a2_center        120.5     -inf      inf 0.002628    False a1_center--0.8     None\n",
      "a2_fwhm         0.8082     -inf      inf        0    False 1.0692*a2_gamma+sqrt(0.8664*a2_gamma**2+5.545083*a2_sigma**2)     None\n",
      "a2_gamma        0.1828     -inf      inf 0.008305    False a1_gamma     None\n",
      "a2_height         2460     -inf      inf        0    False (a2_amplitude/(a2_sigma*sqrt(2*pi)))*wofz((1j*a2_gamma)/(a2_sigma*sqrt(2))).real     None\n",
      "a2_sigma          0.25        0      inf 0.006532    False a1_sigma     None\n",
      "b1_amplitude     112.1     -inf      inf    37.62     True     None     None\n",
      "b1_center        123.3     -inf      inf   0.1581     True     None     None\n",
      "b1_fwhm         0.8082     -inf      inf        0    False 1.0692*b1_gamma+sqrt(0.8664*b1_gamma**2+5.545083*b1_sigma**2)     None\n",
      "b1_gamma        0.1828     -inf      inf 0.008305    False a1_gamma     None\n",
      "b1_height        108.6     -inf      inf    36.45    False (b1_amplitude/(b1_sigma*sqrt(2*pi)))*wofz((1j*b1_gamma)/(b1_sigma*sqrt(2))).real     None\n",
      "b1_sigma          0.25        0      inf 0.006532    False a1_sigma     None\n",
      "b2_amplitude     56.07     -inf      inf    18.81    False b1_amplitude*0.5     None\n",
      "b2_center        124.1     -inf      inf   0.1581    False b1_center--0.8     None\n",
      "b2_fwhm         0.8082     -inf      inf        0    False 1.0692*b2_gamma+sqrt(0.8664*b2_gamma**2+5.545083*b2_sigma**2)     None\n",
      "b2_gamma        0.1828     -inf      inf 0.008305    False a1_gamma     None\n",
      "b2_height        54.32     -inf      inf        0    False (b2_amplitude/(b2_sigma*sqrt(2*pi)))*wofz((1j*b2_gamma)/(b2_sigma*sqrt(2))).real     None\n",
      "b2_sigma          0.25        0      inf 0.006532    False a1_sigma     None\n",
      "c1_amplitude     86.61     -inf      inf    37.59     True     None     None\n",
      "c1_center        124.1     -inf      inf   0.2041     True     None     None\n",
      "c1_fwhm         0.8082     -inf      inf        0    False 1.0692*c1_gamma+sqrt(0.8664*c1_gamma**2+5.545083*c1_sigma**2)     None\n",
      "c1_gamma        0.1828     -inf      inf 0.008305    False a1_gamma     None\n",
      "c1_height        83.91     -inf      inf    36.42    False (c1_amplitude/(c1_sigma*sqrt(2*pi)))*wofz((1j*c1_gamma)/(c1_sigma*sqrt(2))).real     None\n",
      "c1_sigma          0.25        0      inf 0.006532    False a1_sigma     None\n",
      "c2_amplitude     43.31     -inf      inf     18.8    False c1_amplitude*0.5     None\n",
      "c2_center        124.9     -inf      inf   0.2041    False c1_center--0.8     None\n",
      "c2_fwhm         0.8082     -inf      inf        0    False 1.0692*c2_gamma+sqrt(0.8664*c2_gamma**2+5.545083*c2_sigma**2)     None\n",
      "c2_gamma        0.1828     -inf      inf 0.008305    False a1_gamma     None\n",
      "c2_height        41.96     -inf      inf        0    False (c2_amplitude/(c2_sigma*sqrt(2*pi)))*wofz((1j*c2_gamma)/(c2_sigma*sqrt(2))).real     None\n",
      "c2_sigma          0.25        0      inf 0.006532    False a1_sigma     None\n"
     ]
    }
   ],
   "source": [
    "fitoutput.params.pretty_print()"
   ]
  },
  {
   "cell_type": "code",
   "execution_count": null,
   "metadata": {},
   "outputs": [],
   "source": []
  }
 ],
 "metadata": {
  "kernelspec": {
   "display_name": "Python 3",
   "language": "python",
   "name": "python3"
  },
  "language_info": {
   "codemirror_mode": {
    "name": "ipython",
    "version": 3
   },
   "file_extension": ".py",
   "mimetype": "text/x-python",
   "name": "python",
   "nbconvert_exporter": "python",
   "pygments_lexer": "ipython3",
   "version": "3.7.3"
  }
 },
 "nbformat": 4,
 "nbformat_minor": 4
}
